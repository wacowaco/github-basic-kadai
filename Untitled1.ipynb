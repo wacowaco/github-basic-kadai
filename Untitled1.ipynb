{
  "nbformat": 4,
  "nbformat_minor": 0,
  "metadata": {
    "colab": {
      "provenance": [],
      "authorship_tag": "ABX9TyN6Al/m9fMk/of0tlnhNo4L",
      "include_colab_link": true
    },
    "kernelspec": {
      "name": "python3",
      "display_name": "Python 3"
    },
    "language_info": {
      "name": "python"
    }
  },
  "cells": [
    {
      "cell_type": "markdown",
      "metadata": {
        "id": "view-in-github",
        "colab_type": "text"
      },
      "source": [
        "<a href=\"https://colab.research.google.com/github/wacowaco/github-basic-kadai/blob/main/Untitled1.ipynb\" target=\"_parent\"><img src=\"https://colab.research.google.com/assets/colab-badge.svg\" alt=\"Open In Colab\"/></a>"
      ]
    },
    {
      "cell_type": "code",
      "execution_count": 7,
      "metadata": {
        "colab": {
          "base_uri": "https://localhost:8080/"
        },
        "id": "boS_ZSmRQVrQ",
        "outputId": "b5e2ec94-0978-4886-b596-26ea51476a5e"
      },
      "outputs": [
        {
          "output_type": "stream",
          "name": "stdout",
          "text": [
            "75.0cm²\n"
          ]
        }
      ],
      "source": [
        "\"\"\"\n",
        "    上辺(top_side)：10cm\n",
        "    下辺(bottom_side)：20cm\n",
        "    高さ(height)：5cm\n",
        "\n",
        "    公式：台形の面積 =（上辺＋下辺）× 高さ % 2\"\"\"\n",
        "\n",
        "top_side = 10\n",
        "bottom_side = 20\n",
        "height = 5\n",
        "area = (top_side + bottom_side) * height / 2\n",
        "\n",
        "print(str(area) + \"cm²\")\n"
      ]
    },
    {
      "cell_type": "code",
      "source": [],
      "metadata": {
        "id": "cKcB5A6-RNl5"
      },
      "execution_count": null,
      "outputs": []
    }
  ]
}
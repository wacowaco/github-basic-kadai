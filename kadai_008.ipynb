{
  "nbformat": 4,
  "nbformat_minor": 0,
  "metadata": {
    "colab": {
      "provenance": []
    },
    "kernelspec": {
      "name": "python3",
      "display_name": "Python 3"
    },
    "language_info": {
      "name": "python"
    }
  },
  "cells": [
    {
      "cell_type": "code",
      "execution_count": 6,
      "metadata": {
        "colab": {
          "base_uri": "https://localhost:8080/"
        },
        "id": "sKMFL6ug7gOd",
        "outputId": "56d3522d-2e7d-4b79-9c52-5b029930390c"
      },
      "outputs": [
        {
          "output_type": "stream",
          "name": "stdout",
          "text": [
            "30\n",
            "Fizz\n"
          ]
        }
      ],
      "source": [
        "#ランダムな整数を利用するために、randomモジュールをインポート\n",
        "import random\n",
        "\n",
        "# 変数varに0～4までのランダムな整数を代入する\n",
        "var = random.randint(0, 30)\n",
        "\n",
        "# 変数varの値を出力\n",
        "print(var)\n",
        "\n",
        "#変数varが、3の倍数の場合は「Fizz」を出力\n",
        "if var % 3 == 0:\n",
        "   print(\"Fizz\")\n",
        "\n",
        "#変数varが、5の倍数の場合は「Buzz」を出力\n",
        "\n",
        "elif var % 5 == 0:\n",
        "     print(\"Buzz\")\n",
        "\n",
        "#変数varが、3の倍数と5の倍数の両方に該当する場合は「FizzBuzz」を出力\n",
        "\n",
        "elif var % 3 == 0 and var % 5 == 0:\n",
        "     print(\"FizzBuzz\")\n",
        "#上記のどの場合にも該当しない場合は、変数varの値を出力\n",
        "\n",
        "else:\n",
        "    print(var)\n",
        "\n"
      ]
    }
  ]
}
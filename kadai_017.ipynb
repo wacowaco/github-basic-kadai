{
  "nbformat": 4,
  "nbformat_minor": 0,
  "metadata": {
    "colab": {
      "provenance": []
    },
    "kernelspec": {
      "name": "python3",
      "display_name": "Python 3"
    },
    "language_info": {
      "name": "python"
    }
  },
  "cells": [
    {
      "cell_type": "code",
      "execution_count": null,
      "metadata": {
        "colab": {
          "base_uri": "https://localhost:8080/"
        },
        "id": "bZIlOy2b5ndM",
        "outputId": "925f6d75-f148-4e3a-cd6a-73f0ec8ce363"
      },
      "outputs": [
        {
          "output_type": "stream",
          "name": "stdout",
          "text": [
            "Aliceは大人です。\n",
            "Bobは大人ではありません。\n",
            "Charlieは大人です。\n",
            "Daveは大人ではありません。\n"
          ]
        }
      ],
      "source": [
        "class Human:\n",
        "  def __init__(self,name,age):\n",
        "    self.name = name\n",
        "    self.age = age\n",
        "\n",
        "  def check_adult(self):\n",
        "      if self.age >= 20:\n",
        "        print(f\"{self.name}は大人です。\")\n",
        "      else:\n",
        "          print(f\"{self.name}は大人ではありません。\")\n",
        "\n",
        "people = [\n",
        "    Human(\"Alice\",30),\n",
        "    Human(\"Bob\",18),\n",
        "    Human(\"Charlie\",25),\n",
        "    Human(\"Dave\",15)\n",
        "]\n",
        "\n",
        "for person in people:\n",
        "    person.check_adult()"
      ]
    }
  ]
}
{
  "nbformat": 4,
  "nbformat_minor": 0,
  "metadata": {
    "colab": {
      "provenance": []
    },
    "kernelspec": {
      "name": "python3",
      "display_name": "Python 3"
    },
    "language_info": {
      "name": "python"
    }
  },
  "cells": [
    {
      "cell_type": "code",
      "execution_count": 6,
      "metadata": {
        "colab": {
          "base_uri": "https://localhost:8080/"
        },
        "id": "4m8CE1nKdGIF",
        "outputId": "148311fc-8aa6-43ca-8e59-61eb84b8cb3d"
      },
      "outputs": [
        {
          "output_type": "stream",
          "name": "stdout",
          "text": [
            "税込の金額:1100.0\n"
          ]
        }
      ],
      "source": [
        "def calculate_price_with_tax(price,tax_rate=0.10):\n",
        "\n",
        "  total_price = price *(1 + tax_rate)\n",
        "  return total_price\n",
        "\n",
        "price = 1000\n",
        "result = calculate_price_with_tax(price)\n",
        "print(f\"税込の金額:{result}\")\n"
      ]
    }
  ]
}
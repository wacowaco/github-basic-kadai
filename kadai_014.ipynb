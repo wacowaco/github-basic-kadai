{
  "nbformat": 4,
  "nbformat_minor": 0,
  "metadata": {
    "colab": {
      "provenance": []
    },
    "kernelspec": {
      "name": "python3",
      "display_name": "Python 3"
    },
    "language_info": {
      "name": "python"
    }
  },
  "cells": [
    {
      "cell_type": "code",
      "execution_count": 8,
      "metadata": {
        "id": "N1JdnT6RtwYO"
      },
      "outputs": [],
      "source": [
        "price1 = 100\n",
        "price2 = 200\n",
        "tax = 1.1\n",
        "def total():\n",
        "    return (price1 + price2) * tax\n",
        "    print(total())"
      ]
    },
    {
      "cell_type": "code",
      "source": [],
      "metadata": {
        "id": "FsyhFCljvDdh"
      },
      "execution_count": null,
      "outputs": []
    }
  ]
}
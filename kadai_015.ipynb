{
  "nbformat": 4,
  "nbformat_minor": 0,
  "metadata": {
    "colab": {
      "provenance": [],
      "history_visible": true
    },
    "kernelspec": {
      "name": "python3",
      "display_name": "Python 3"
    },
    "language_info": {
      "name": "python"
    }
  },
  "cells": [
    {
      "cell_type": "code",
      "execution_count": null,
      "metadata": {
        "id": "rEEwp3VNlQOA",
        "colab": {
          "base_uri": "https://localhost:8080/"
        },
        "outputId": "2246c9f5-845a-4987-a1ab-4a54e726790b"
      },
      "outputs": [
        {
          "output_type": "stream",
          "name": "stdout",
          "text": [
            "Name: Wako,Age:26\n"
          ]
        }
      ],
      "source": [
        "from os import wait\n",
        "class Human:\n",
        "  def __init__(self, name, age):\n",
        "    self.name = name\n",
        "    self.age = age\n",
        "\n",
        "\n",
        "  def printinfo(self):\n",
        "    print(f\"Name: {self.name},Age:{self.age}\")\n",
        "\n",
        "person = Human(\"Wako\",26)\n",
        "person.printinfo()"
      ]
    }
  ]
}